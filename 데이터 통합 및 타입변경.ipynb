{
 "cells": [
  {
   "cell_type": "code",
   "execution_count": 1,
   "metadata": {},
   "outputs": [],
   "source": [
    "import pandas as pd"
   ]
  },
  {
   "cell_type": "code",
   "execution_count": 15,
   "metadata": {},
   "outputs": [
    {
     "output_type": "stream",
     "name": "stderr",
     "text": [
      "C:\\Users\\inthe\\anaconda3\\envs\\ribeco\\lib\\site-packages\\openpyxl\\styles\\stylesheet.py:221: UserWarning: Workbook contains no default style, apply openpyxl's default\n  warn(\"Workbook contains no default style, apply openpyxl's default\")\n"
     ]
    }
   ],
   "source": [
    "df_1=pd.read_excel(\"1601.xlsx\", header = None)\n",
    "df_2=pd.read_excel(\"1602.xlsx\", header = None)\n",
    "df_3=pd.read_excel(\"1603.xlsx\", header = None)\n",
    "df_4=pd.read_excel(\"1604.xlsx\", header = None)\n",
    "df_5=pd.read_excel(\"1605.xlsx\", header = None)\n",
    "df_6=pd.read_excel(\"1606.xlsx\", header = None)\n",
    "df_7=pd.read_excel(\"1607.xlsx\", header = None)\n",
    "df_8=pd.read_excel(\"1608.xlsx\", header = None)\n",
    "df_9=pd.read_excel(\"1609.xlsx\", header = None)\n",
    "df_10=pd.read_excel(\"1610.xlsx\", header = None)\n",
    "df_11=pd.read_excel(\"1611.xlsx\", header = None)\n",
    "df_12=pd.read_excel(\"1612.xlsx\", header = None)\n",
    "df_13=pd.read_excel(\"1701.xlsx\", header = None)\n",
    "df_14=pd.read_excel(\"1702.xlsx\", header = None)\n",
    "df_15=pd.read_excel(\"1703.xlsx\", header = None)\n",
    "df_16=pd.read_excel(\"1704.xlsx\", header = None)\n",
    "df_17=pd.read_excel(\"1705.xlsx\", header = None)\n",
    "df_18=pd.read_excel(\"1706.xlsx\", header = None)\n",
    "df_19=pd.read_excel(\"1707.xlsx\", header = None)\n",
    "df_20=pd.read_excel(\"1708.xlsx\", header = None)\n",
    "df_21=pd.read_excel(\"1709.xlsx\", header = None)\n",
    "df_22=pd.read_excel(\"1710.xlsx\", header = None)\n",
    "df_23=pd.read_excel(\"1711.xlsx\", header = None)\n",
    "df_24=pd.read_excel(\"1712.xlsx\", header = None)\n",
    "data = pd.read_excel('../양양포월(18_21년)데이터자료.xlsx', header= None)"
   ]
  },
  {
   "cell_type": "code",
   "execution_count": 16,
   "metadata": {},
   "outputs": [],
   "source": [
    "df_1 = df_1.drop([0,1,2])\n",
    "df_2=df_2.drop([0,1,2])\n",
    "df_3=df_3.drop([0,1,2])\n",
    "df_4=df_4.drop([0,1,2])\n",
    "df_5=df_5.drop([0,1,2])\n",
    "df_6=df_6.drop([0,1,2])\n",
    "df_7=df_7.drop([0,1,2])\n",
    "df_8=df_8.drop([0,1,2])\n",
    "df_9=df_9.drop([0,1,2])\n",
    "df_10=df_10.drop([0,1,2])\n",
    "df_11=df_11.drop([0,1,2])\n",
    "df_12=df_12.drop([0,1,2])\n",
    "df_13=df_13.drop([0,1,2])\n",
    "df_14=df_14.drop([0,1,2])\n",
    "df_15=df_15.drop([0,1,2])\n",
    "df_16=df_16.drop([0,1,2])\n",
    "df_17=df_17.drop([0,1,2])\n",
    "df_18=df_18.drop([0,1,2])\n",
    "df_19=df_19.drop([0,1,2])\n",
    "df_20=df_20.drop([0,1,2])\n",
    "df_21=df_21.drop([0,1,2])\n",
    "df_22=df_22.drop([0,1,2])\n",
    "df_23=df_23.drop([0,1,2])\n",
    "df_24=df_24.drop([0,1,2])\n",
    "df_25=df_25.drop([0,1,2])"
   ]
  },
  {
   "cell_type": "code",
   "execution_count": 17,
   "metadata": {},
   "outputs": [],
   "source": [
    "data = pd.concat([df_1,df_2,df_3,df_4,df_5,df_6\t,df_7\t,df_8,\tdf_9,\tdf_10,\tdf_11,\tdf_12,\tdf_13,\tdf_14,\n",
    "                  df_15\t,df_16,\tdf_17,\tdf_18,\tdf_19,\tdf_20,\tdf_21,\tdf_22,\tdf_23,df_24], ignore_index=True)"
   ]
  },
  {
   "cell_type": "code",
   "execution_count": 18,
   "metadata": {},
   "outputs": [
    {
     "output_type": "execute_result",
     "data": {
      "text/plain": [
       "       방류구        측정일자    측정시간 COD_기준치 COD_측정치 COD_상태정보 SS_기준치 SS_측정치 SS_상태정보  \\\n",
       "108585   1  2017/01/12  00시45분      40     3.8     장비정상     10    2.3    장비정상   \n",
       "\n",
       "       T-N_기준치 T-N_측정치 T-N_상태정보 T-P_기준치 T-P_측정치 T-P_상태정보 pH_기준치 PH_측정치 PH_상태정보  \n",
       "108585      20   7.590     장비정상       2   0.526     장비정상    8.6    8.0    장비정상  "
      ],
      "text/html": "<div>\n<style scoped>\n    .dataframe tbody tr th:only-of-type {\n        vertical-align: middle;\n    }\n\n    .dataframe tbody tr th {\n        vertical-align: top;\n    }\n\n    .dataframe thead th {\n        text-align: right;\n    }\n</style>\n<table border=\"1\" class=\"dataframe\">\n  <thead>\n    <tr style=\"text-align: right;\">\n      <th></th>\n      <th>방류구</th>\n      <th>측정일자</th>\n      <th>측정시간</th>\n      <th>COD_기준치</th>\n      <th>COD_측정치</th>\n      <th>COD_상태정보</th>\n      <th>SS_기준치</th>\n      <th>SS_측정치</th>\n      <th>SS_상태정보</th>\n      <th>T-N_기준치</th>\n      <th>T-N_측정치</th>\n      <th>T-N_상태정보</th>\n      <th>T-P_기준치</th>\n      <th>T-P_측정치</th>\n      <th>T-P_상태정보</th>\n      <th>pH_기준치</th>\n      <th>PH_측정치</th>\n      <th>PH_상태정보</th>\n    </tr>\n  </thead>\n  <tbody>\n    <tr>\n      <th>108585</th>\n      <td>1</td>\n      <td>2017/01/12</td>\n      <td>00시45분</td>\n      <td>40</td>\n      <td>3.8</td>\n      <td>장비정상</td>\n      <td>10</td>\n      <td>2.3</td>\n      <td>장비정상</td>\n      <td>20</td>\n      <td>7.590</td>\n      <td>장비정상</td>\n      <td>2</td>\n      <td>0.526</td>\n      <td>장비정상</td>\n      <td>8.6</td>\n      <td>8.0</td>\n      <td>장비정상</td>\n    </tr>\n  </tbody>\n</table>\n</div>"
     },
     "metadata": {},
     "execution_count": 18
    }
   ],
   "source": [
    "columns =  ['방류구','측정일자',\t'측정시간',\t'COD_기준치', 'COD_측정치',\t'COD_상태정보',\t'SS_기준치',\t'SS_측정치',\t'SS_상태정보',\t'T-N_기준치'\t,'T-N_측정치',\t'T-N_상태정보',\t'T-P_기준치',\t'T-P_측정치','T-P_상태정보',\t'pH_기준치'\t,'PH_측정치', 'PH_상태정보']\n",
    "data.columns = columns\n",
    "data.sample()"
   ]
  },
  {
   "cell_type": "code",
   "execution_count": 21,
   "metadata": {},
   "outputs": [
    {
     "output_type": "execute_result",
     "data": {
      "text/plain": [
       "Empty DataFrame\n",
       "Columns: [방류구, 측정일자, 측정시간, COD_기준치, COD_측정치, COD_상태정보, SS_기준치, SS_측정치, SS_상태정보, T-N_기준치, T-N_측정치, T-N_상태정보, T-P_기준치, T-P_측정치, T-P_상태정보, pH_기준치, PH_측정치, PH_상태정보]\n",
       "Index: []"
      ],
      "text/html": "<div>\n<style scoped>\n    .dataframe tbody tr th:only-of-type {\n        vertical-align: middle;\n    }\n\n    .dataframe tbody tr th {\n        vertical-align: top;\n    }\n\n    .dataframe thead th {\n        text-align: right;\n    }\n</style>\n<table border=\"1\" class=\"dataframe\">\n  <thead>\n    <tr style=\"text-align: right;\">\n      <th></th>\n      <th>방류구</th>\n      <th>측정일자</th>\n      <th>측정시간</th>\n      <th>COD_기준치</th>\n      <th>COD_측정치</th>\n      <th>COD_상태정보</th>\n      <th>SS_기준치</th>\n      <th>SS_측정치</th>\n      <th>SS_상태정보</th>\n      <th>T-N_기준치</th>\n      <th>T-N_측정치</th>\n      <th>T-N_상태정보</th>\n      <th>T-P_기준치</th>\n      <th>T-P_측정치</th>\n      <th>T-P_상태정보</th>\n      <th>pH_기준치</th>\n      <th>PH_측정치</th>\n      <th>PH_상태정보</th>\n    </tr>\n  </thead>\n  <tbody>\n  </tbody>\n</table>\n</div>"
     },
     "metadata": {},
     "execution_count": 21
    }
   ],
   "source": [
    "data[data['SS_측정치'] == '측정치']"
   ]
  },
  {
   "cell_type": "code",
   "execution_count": 1,
   "metadata": {},
   "outputs": [
    {
     "output_type": "error",
     "ename": "NameError",
     "evalue": "name 'data' is not defined",
     "traceback": [
      "\u001b[1;31m---------------------------------------------------------------------------\u001b[0m",
      "\u001b[1;31mNameError\u001b[0m                                 Traceback (most recent call last)",
      "\u001b[1;32m<ipython-input-1-7606243ca099>\u001b[0m in \u001b[0;36m<module>\u001b[1;34m\u001b[0m\n\u001b[1;32m----> 1\u001b[1;33m \u001b[0mdata\u001b[0m \u001b[1;33m=\u001b[0m \u001b[0mdata\u001b[0m\u001b[1;33m.\u001b[0m\u001b[0mastype\u001b[0m\u001b[1;33m(\u001b[0m\u001b[1;33m{\u001b[0m\u001b[1;34m'SS_측정치'\u001b[0m\u001b[1;33m:\u001b[0m\u001b[0mfloat\u001b[0m\u001b[1;33m,\u001b[0m\u001b[1;34m'T-N_측정치'\u001b[0m\u001b[1;33m:\u001b[0m\u001b[0mfloat\u001b[0m\u001b[1;33m,\u001b[0m \u001b[1;34m'T-P_측정치'\u001b[0m\u001b[1;33m:\u001b[0m\u001b[0mfloat\u001b[0m\u001b[1;33m,\u001b[0m \u001b[1;34m'T-N_측정치'\u001b[0m\u001b[1;33m:\u001b[0m\u001b[0mfloat\u001b[0m\u001b[1;33m,\u001b[0m \u001b[1;34m'PH_측정치'\u001b[0m\u001b[1;33m:\u001b[0m\u001b[0mfloat\u001b[0m\u001b[1;33m}\u001b[0m\u001b[1;33m)\u001b[0m\u001b[1;33m\u001b[0m\u001b[1;33m\u001b[0m\u001b[0m\n\u001b[0m",
      "\u001b[1;31mNameError\u001b[0m: name 'data' is not defined"
     ]
    }
   ],
   "source": [
    "data = data.astype({'SS_측정치':float,'T-N_측정치':float, 'T-P_측정치':float, 'T-N_측정치':float, 'PH_측정치':float})"
   ]
  },
  {
   "cell_type": "code",
   "execution_count": 25,
   "metadata": {},
   "outputs": [],
   "source": [
    "astype_data['측정시간'] =astype_data['측정일자'] +' '+ astype_data['측정시간']"
   ]
  },
  {
   "cell_type": "code",
   "execution_count": 26,
   "metadata": {},
   "outputs": [],
   "source": [
    "astype_data['측정시간'] = astype_data['측정시간'].apply(lambda x: x.replace('시',':'))\n",
    "astype_data['측정시간'] = astype_data['측정시간'].apply(lambda x: x.replace('분',''))"
   ]
  },
  {
   "cell_type": "code",
   "execution_count": 28,
   "metadata": {},
   "outputs": [
    {
     "output_type": "execute_result",
     "data": {
      "text/plain": [
       "       방류구        측정일자                         측정시간 COD_기준치 COD_측정치 COD_상태정보  \\\n",
       "0        1  2016/01/01  2016/01/01 2016/01/01 00:00      40     7.8     장비정상   \n",
       "1        1  2016/01/01  2016/01/01 2016/01/01 00:05      40     7.8     장비정상   \n",
       "2        1  2016/01/01  2016/01/01 2016/01/01 00:10      40     7.8     장비정상   \n",
       "3        1  2016/01/01  2016/01/01 2016/01/01 00:15      40     7.8     장비정상   \n",
       "4        1  2016/01/01  2016/01/01 2016/01/01 00:20      40     7.8     장비정상   \n",
       "...     ..         ...                          ...     ...     ...      ...   \n",
       "210523   1  2017/12/31  2017/12/31 2017/12/31 23:35      40     9.4     장비정상   \n",
       "210524   1  2017/12/31  2017/12/31 2017/12/31 23:40      40     8.6     장비정상   \n",
       "210525   1  2017/12/31  2017/12/31 2017/12/31 23:45      40     8.6     장비정상   \n",
       "210526   1  2017/12/31  2017/12/31 2017/12/31 23:50      40     8.6     장비정상   \n",
       "210527   1  2017/12/31  2017/12/31 2017/12/31 23:55      40     8.6     장비정상   \n",
       "\n",
       "       SS_기준치  SS_측정치 SS_상태정보 T-N_기준치  T-N_측정치 T-N_상태정보 T-P_기준치  T-P_측정치  \\\n",
       "0          10     3.5    장비정상      20    5.210     장비정상       2    0.031   \n",
       "1          10     3.6    장비정상      20    5.210     장비정상       2    0.031   \n",
       "2          10     3.6    장비정상      20    5.210     장비정상       2    0.031   \n",
       "3          10     3.6    장비정상      20    5.210     장비정상       2    0.031   \n",
       "4          10     3.7    장비정상      20    5.210     장비정상       2    0.031   \n",
       "...       ...     ...     ...     ...      ...      ...     ...      ...   \n",
       "210523     10     0.7    장비정상      20    7.263     장비정상       2    0.063   \n",
       "210524     10     0.6    장비정상      20    7.428     장비정상       2    0.064   \n",
       "210525     10     0.6    장비정상      20    7.428     장비정상       2    0.064   \n",
       "210526     10     0.7    장비정상      20    7.428     장비정상       2    0.064   \n",
       "210527     10     0.6    장비정상      20    7.428     장비정상       2    0.064   \n",
       "\n",
       "       T-P_상태정보 pH_기준치  PH_측정치 PH_상태정보  \n",
       "0          장비정상    8.6     7.7    장비정상  \n",
       "1          장비정상    8.6     7.7    장비정상  \n",
       "2          장비정상    8.6     7.7    장비정상  \n",
       "3          장비정상    8.6     7.7    장비정상  \n",
       "4          장비정상    8.6     7.7    장비정상  \n",
       "...         ...    ...     ...     ...  \n",
       "210523     장비정상    8.6     7.8    장비정상  \n",
       "210524     장비정상    8.6     7.8    장비정상  \n",
       "210525     장비정상    8.6     7.8    장비정상  \n",
       "210526     장비정상    8.6     7.8    장비정상  \n",
       "210527     장비정상    8.6     7.8    장비정상  \n",
       "\n",
       "[210528 rows x 18 columns]"
      ],
      "text/html": "<div>\n<style scoped>\n    .dataframe tbody tr th:only-of-type {\n        vertical-align: middle;\n    }\n\n    .dataframe tbody tr th {\n        vertical-align: top;\n    }\n\n    .dataframe thead th {\n        text-align: right;\n    }\n</style>\n<table border=\"1\" class=\"dataframe\">\n  <thead>\n    <tr style=\"text-align: right;\">\n      <th></th>\n      <th>방류구</th>\n      <th>측정일자</th>\n      <th>측정시간</th>\n      <th>COD_기준치</th>\n      <th>COD_측정치</th>\n      <th>COD_상태정보</th>\n      <th>SS_기준치</th>\n      <th>SS_측정치</th>\n      <th>SS_상태정보</th>\n      <th>T-N_기준치</th>\n      <th>T-N_측정치</th>\n      <th>T-N_상태정보</th>\n      <th>T-P_기준치</th>\n      <th>T-P_측정치</th>\n      <th>T-P_상태정보</th>\n      <th>pH_기준치</th>\n      <th>PH_측정치</th>\n      <th>PH_상태정보</th>\n    </tr>\n  </thead>\n  <tbody>\n    <tr>\n      <th>0</th>\n      <td>1</td>\n      <td>2016/01/01</td>\n      <td>2016/01/01 2016/01/01 00:00</td>\n      <td>40</td>\n      <td>7.8</td>\n      <td>장비정상</td>\n      <td>10</td>\n      <td>3.5</td>\n      <td>장비정상</td>\n      <td>20</td>\n      <td>5.210</td>\n      <td>장비정상</td>\n      <td>2</td>\n      <td>0.031</td>\n      <td>장비정상</td>\n      <td>8.6</td>\n      <td>7.7</td>\n      <td>장비정상</td>\n    </tr>\n    <tr>\n      <th>1</th>\n      <td>1</td>\n      <td>2016/01/01</td>\n      <td>2016/01/01 2016/01/01 00:05</td>\n      <td>40</td>\n      <td>7.8</td>\n      <td>장비정상</td>\n      <td>10</td>\n      <td>3.6</td>\n      <td>장비정상</td>\n      <td>20</td>\n      <td>5.210</td>\n      <td>장비정상</td>\n      <td>2</td>\n      <td>0.031</td>\n      <td>장비정상</td>\n      <td>8.6</td>\n      <td>7.7</td>\n      <td>장비정상</td>\n    </tr>\n    <tr>\n      <th>2</th>\n      <td>1</td>\n      <td>2016/01/01</td>\n      <td>2016/01/01 2016/01/01 00:10</td>\n      <td>40</td>\n      <td>7.8</td>\n      <td>장비정상</td>\n      <td>10</td>\n      <td>3.6</td>\n      <td>장비정상</td>\n      <td>20</td>\n      <td>5.210</td>\n      <td>장비정상</td>\n      <td>2</td>\n      <td>0.031</td>\n      <td>장비정상</td>\n      <td>8.6</td>\n      <td>7.7</td>\n      <td>장비정상</td>\n    </tr>\n    <tr>\n      <th>3</th>\n      <td>1</td>\n      <td>2016/01/01</td>\n      <td>2016/01/01 2016/01/01 00:15</td>\n      <td>40</td>\n      <td>7.8</td>\n      <td>장비정상</td>\n      <td>10</td>\n      <td>3.6</td>\n      <td>장비정상</td>\n      <td>20</td>\n      <td>5.210</td>\n      <td>장비정상</td>\n      <td>2</td>\n      <td>0.031</td>\n      <td>장비정상</td>\n      <td>8.6</td>\n      <td>7.7</td>\n      <td>장비정상</td>\n    </tr>\n    <tr>\n      <th>4</th>\n      <td>1</td>\n      <td>2016/01/01</td>\n      <td>2016/01/01 2016/01/01 00:20</td>\n      <td>40</td>\n      <td>7.8</td>\n      <td>장비정상</td>\n      <td>10</td>\n      <td>3.7</td>\n      <td>장비정상</td>\n      <td>20</td>\n      <td>5.210</td>\n      <td>장비정상</td>\n      <td>2</td>\n      <td>0.031</td>\n      <td>장비정상</td>\n      <td>8.6</td>\n      <td>7.7</td>\n      <td>장비정상</td>\n    </tr>\n    <tr>\n      <th>...</th>\n      <td>...</td>\n      <td>...</td>\n      <td>...</td>\n      <td>...</td>\n      <td>...</td>\n      <td>...</td>\n      <td>...</td>\n      <td>...</td>\n      <td>...</td>\n      <td>...</td>\n      <td>...</td>\n      <td>...</td>\n      <td>...</td>\n      <td>...</td>\n      <td>...</td>\n      <td>...</td>\n      <td>...</td>\n      <td>...</td>\n    </tr>\n    <tr>\n      <th>210523</th>\n      <td>1</td>\n      <td>2017/12/31</td>\n      <td>2017/12/31 2017/12/31 23:35</td>\n      <td>40</td>\n      <td>9.4</td>\n      <td>장비정상</td>\n      <td>10</td>\n      <td>0.7</td>\n      <td>장비정상</td>\n      <td>20</td>\n      <td>7.263</td>\n      <td>장비정상</td>\n      <td>2</td>\n      <td>0.063</td>\n      <td>장비정상</td>\n      <td>8.6</td>\n      <td>7.8</td>\n      <td>장비정상</td>\n    </tr>\n    <tr>\n      <th>210524</th>\n      <td>1</td>\n      <td>2017/12/31</td>\n      <td>2017/12/31 2017/12/31 23:40</td>\n      <td>40</td>\n      <td>8.6</td>\n      <td>장비정상</td>\n      <td>10</td>\n      <td>0.6</td>\n      <td>장비정상</td>\n      <td>20</td>\n      <td>7.428</td>\n      <td>장비정상</td>\n      <td>2</td>\n      <td>0.064</td>\n      <td>장비정상</td>\n      <td>8.6</td>\n      <td>7.8</td>\n      <td>장비정상</td>\n    </tr>\n    <tr>\n      <th>210525</th>\n      <td>1</td>\n      <td>2017/12/31</td>\n      <td>2017/12/31 2017/12/31 23:45</td>\n      <td>40</td>\n      <td>8.6</td>\n      <td>장비정상</td>\n      <td>10</td>\n      <td>0.6</td>\n      <td>장비정상</td>\n      <td>20</td>\n      <td>7.428</td>\n      <td>장비정상</td>\n      <td>2</td>\n      <td>0.064</td>\n      <td>장비정상</td>\n      <td>8.6</td>\n      <td>7.8</td>\n      <td>장비정상</td>\n    </tr>\n    <tr>\n      <th>210526</th>\n      <td>1</td>\n      <td>2017/12/31</td>\n      <td>2017/12/31 2017/12/31 23:50</td>\n      <td>40</td>\n      <td>8.6</td>\n      <td>장비정상</td>\n      <td>10</td>\n      <td>0.7</td>\n      <td>장비정상</td>\n      <td>20</td>\n      <td>7.428</td>\n      <td>장비정상</td>\n      <td>2</td>\n      <td>0.064</td>\n      <td>장비정상</td>\n      <td>8.6</td>\n      <td>7.8</td>\n      <td>장비정상</td>\n    </tr>\n    <tr>\n      <th>210527</th>\n      <td>1</td>\n      <td>2017/12/31</td>\n      <td>2017/12/31 2017/12/31 23:55</td>\n      <td>40</td>\n      <td>8.6</td>\n      <td>장비정상</td>\n      <td>10</td>\n      <td>0.6</td>\n      <td>장비정상</td>\n      <td>20</td>\n      <td>7.428</td>\n      <td>장비정상</td>\n      <td>2</td>\n      <td>0.064</td>\n      <td>장비정상</td>\n      <td>8.6</td>\n      <td>7.8</td>\n      <td>장비정상</td>\n    </tr>\n  </tbody>\n</table>\n<p>210528 rows × 18 columns</p>\n</div>"
     },
     "metadata": {},
     "execution_count": 28
    }
   ],
   "source": [
    "astype_data"
   ]
  },
  {
   "cell_type": "code",
   "execution_count": 27,
   "metadata": {},
   "outputs": [
    {
     "output_type": "error",
     "ename": "ParserError",
     "evalue": "Unknown string format: 2016/01/01 2016/01/01 00:00",
     "traceback": [
      "\u001b[1;31m---------------------------------------------------------------------------\u001b[0m",
      "\u001b[1;31mTypeError\u001b[0m                                 Traceback (most recent call last)",
      "\u001b[1;32m~\\anaconda3\\envs\\ribeco\\lib\\site-packages\\pandas\\core\\arrays\\datetimes.py\u001b[0m in \u001b[0;36mobjects_to_datetime64ns\u001b[1;34m(data, dayfirst, yearfirst, utc, errors, require_iso8601, allow_object)\u001b[0m\n\u001b[0;32m   2084\u001b[0m         \u001b[1;32mtry\u001b[0m\u001b[1;33m:\u001b[0m\u001b[1;33m\u001b[0m\u001b[1;33m\u001b[0m\u001b[0m\n\u001b[1;32m-> 2085\u001b[1;33m             \u001b[0mvalues\u001b[0m\u001b[1;33m,\u001b[0m \u001b[0mtz_parsed\u001b[0m \u001b[1;33m=\u001b[0m \u001b[0mconversion\u001b[0m\u001b[1;33m.\u001b[0m\u001b[0mdatetime_to_datetime64\u001b[0m\u001b[1;33m(\u001b[0m\u001b[0mdata\u001b[0m\u001b[1;33m)\u001b[0m\u001b[1;33m\u001b[0m\u001b[1;33m\u001b[0m\u001b[0m\n\u001b[0m\u001b[0;32m   2086\u001b[0m             \u001b[1;31m# If tzaware, these values represent unix timestamps, so we\u001b[0m\u001b[1;33m\u001b[0m\u001b[1;33m\u001b[0m\u001b[1;33m\u001b[0m\u001b[0m\n",
      "\u001b[1;32mpandas\\_libs\\tslibs\\conversion.pyx\u001b[0m in \u001b[0;36mpandas._libs.tslibs.conversion.datetime_to_datetime64\u001b[1;34m()\u001b[0m\n",
      "\u001b[1;31mTypeError\u001b[0m: Unrecognized value type: <class 'str'>",
      "\nDuring handling of the above exception, another exception occurred:\n",
      "\u001b[1;31mParserError\u001b[0m                               Traceback (most recent call last)",
      "\u001b[1;32m<ipython-input-27-7575d221809e>\u001b[0m in \u001b[0;36m<module>\u001b[1;34m\u001b[0m\n\u001b[1;32m----> 1\u001b[1;33m \u001b[0mastype_data\u001b[0m\u001b[1;33m[\u001b[0m\u001b[1;34m'측정시간'\u001b[0m\u001b[1;33m]\u001b[0m \u001b[1;33m=\u001b[0m \u001b[0mpd\u001b[0m\u001b[1;33m.\u001b[0m\u001b[0mto_datetime\u001b[0m\u001b[1;33m(\u001b[0m\u001b[0mastype_data\u001b[0m\u001b[1;33m[\u001b[0m\u001b[1;34m'측정시간'\u001b[0m\u001b[1;33m]\u001b[0m\u001b[1;33m)\u001b[0m\u001b[1;33m\u001b[0m\u001b[1;33m\u001b[0m\u001b[0m\n\u001b[0m",
      "\u001b[1;32m~\\anaconda3\\envs\\ribeco\\lib\\site-packages\\pandas\\core\\tools\\datetimes.py\u001b[0m in \u001b[0;36mto_datetime\u001b[1;34m(arg, errors, dayfirst, yearfirst, utc, format, exact, unit, infer_datetime_format, origin, cache)\u001b[0m\n\u001b[0;32m    803\u001b[0m             \u001b[0mresult\u001b[0m \u001b[1;33m=\u001b[0m \u001b[0marg\u001b[0m\u001b[1;33m.\u001b[0m\u001b[0mmap\u001b[0m\u001b[1;33m(\u001b[0m\u001b[0mcache_array\u001b[0m\u001b[1;33m)\u001b[0m\u001b[1;33m\u001b[0m\u001b[1;33m\u001b[0m\u001b[0m\n\u001b[0;32m    804\u001b[0m         \u001b[1;32melse\u001b[0m\u001b[1;33m:\u001b[0m\u001b[1;33m\u001b[0m\u001b[1;33m\u001b[0m\u001b[0m\n\u001b[1;32m--> 805\u001b[1;33m             \u001b[0mvalues\u001b[0m \u001b[1;33m=\u001b[0m \u001b[0mconvert_listlike\u001b[0m\u001b[1;33m(\u001b[0m\u001b[0marg\u001b[0m\u001b[1;33m.\u001b[0m\u001b[0m_values\u001b[0m\u001b[1;33m,\u001b[0m \u001b[0mformat\u001b[0m\u001b[1;33m)\u001b[0m\u001b[1;33m\u001b[0m\u001b[1;33m\u001b[0m\u001b[0m\n\u001b[0m\u001b[0;32m    806\u001b[0m             \u001b[0mresult\u001b[0m \u001b[1;33m=\u001b[0m \u001b[0marg\u001b[0m\u001b[1;33m.\u001b[0m\u001b[0m_constructor\u001b[0m\u001b[1;33m(\u001b[0m\u001b[0mvalues\u001b[0m\u001b[1;33m,\u001b[0m \u001b[0mindex\u001b[0m\u001b[1;33m=\u001b[0m\u001b[0marg\u001b[0m\u001b[1;33m.\u001b[0m\u001b[0mindex\u001b[0m\u001b[1;33m,\u001b[0m \u001b[0mname\u001b[0m\u001b[1;33m=\u001b[0m\u001b[0marg\u001b[0m\u001b[1;33m.\u001b[0m\u001b[0mname\u001b[0m\u001b[1;33m)\u001b[0m\u001b[1;33m\u001b[0m\u001b[1;33m\u001b[0m\u001b[0m\n\u001b[0;32m    807\u001b[0m     \u001b[1;32melif\u001b[0m \u001b[0misinstance\u001b[0m\u001b[1;33m(\u001b[0m\u001b[0marg\u001b[0m\u001b[1;33m,\u001b[0m \u001b[1;33m(\u001b[0m\u001b[0mABCDataFrame\u001b[0m\u001b[1;33m,\u001b[0m \u001b[0mabc\u001b[0m\u001b[1;33m.\u001b[0m\u001b[0mMutableMapping\u001b[0m\u001b[1;33m)\u001b[0m\u001b[1;33m)\u001b[0m\u001b[1;33m:\u001b[0m\u001b[1;33m\u001b[0m\u001b[1;33m\u001b[0m\u001b[0m\n",
      "\u001b[1;32m~\\anaconda3\\envs\\ribeco\\lib\\site-packages\\pandas\\core\\tools\\datetimes.py\u001b[0m in \u001b[0;36m_convert_listlike_datetimes\u001b[1;34m(arg, format, name, tz, unit, errors, infer_datetime_format, dayfirst, yearfirst, exact)\u001b[0m\n\u001b[0;32m    470\u001b[0m             \u001b[0merrors\u001b[0m\u001b[1;33m=\u001b[0m\u001b[0merrors\u001b[0m\u001b[1;33m,\u001b[0m\u001b[1;33m\u001b[0m\u001b[1;33m\u001b[0m\u001b[0m\n\u001b[0;32m    471\u001b[0m             \u001b[0mrequire_iso8601\u001b[0m\u001b[1;33m=\u001b[0m\u001b[0mrequire_iso8601\u001b[0m\u001b[1;33m,\u001b[0m\u001b[1;33m\u001b[0m\u001b[1;33m\u001b[0m\u001b[0m\n\u001b[1;32m--> 472\u001b[1;33m             \u001b[0mallow_object\u001b[0m\u001b[1;33m=\u001b[0m\u001b[1;32mTrue\u001b[0m\u001b[1;33m,\u001b[0m\u001b[1;33m\u001b[0m\u001b[1;33m\u001b[0m\u001b[0m\n\u001b[0m\u001b[0;32m    473\u001b[0m         )\n\u001b[0;32m    474\u001b[0m \u001b[1;33m\u001b[0m\u001b[0m\n",
      "\u001b[1;32m~\\anaconda3\\envs\\ribeco\\lib\\site-packages\\pandas\\core\\arrays\\datetimes.py\u001b[0m in \u001b[0;36mobjects_to_datetime64ns\u001b[1;34m(data, dayfirst, yearfirst, utc, errors, require_iso8601, allow_object)\u001b[0m\n\u001b[0;32m   2088\u001b[0m             \u001b[1;32mreturn\u001b[0m \u001b[0mvalues\u001b[0m\u001b[1;33m.\u001b[0m\u001b[0mview\u001b[0m\u001b[1;33m(\u001b[0m\u001b[1;34m\"i8\"\u001b[0m\u001b[1;33m)\u001b[0m\u001b[1;33m,\u001b[0m \u001b[0mtz_parsed\u001b[0m\u001b[1;33m\u001b[0m\u001b[1;33m\u001b[0m\u001b[0m\n\u001b[0;32m   2089\u001b[0m         \u001b[1;32mexcept\u001b[0m \u001b[1;33m(\u001b[0m\u001b[0mValueError\u001b[0m\u001b[1;33m,\u001b[0m \u001b[0mTypeError\u001b[0m\u001b[1;33m)\u001b[0m\u001b[1;33m:\u001b[0m\u001b[1;33m\u001b[0m\u001b[1;33m\u001b[0m\u001b[0m\n\u001b[1;32m-> 2090\u001b[1;33m             \u001b[1;32mraise\u001b[0m \u001b[0me\u001b[0m\u001b[1;33m\u001b[0m\u001b[1;33m\u001b[0m\u001b[0m\n\u001b[0m\u001b[0;32m   2091\u001b[0m \u001b[1;33m\u001b[0m\u001b[0m\n\u001b[0;32m   2092\u001b[0m     \u001b[1;32mif\u001b[0m \u001b[0mtz_parsed\u001b[0m \u001b[1;32mis\u001b[0m \u001b[1;32mnot\u001b[0m \u001b[1;32mNone\u001b[0m\u001b[1;33m:\u001b[0m\u001b[1;33m\u001b[0m\u001b[1;33m\u001b[0m\u001b[0m\n",
      "\u001b[1;32m~\\anaconda3\\envs\\ribeco\\lib\\site-packages\\pandas\\core\\arrays\\datetimes.py\u001b[0m in \u001b[0;36mobjects_to_datetime64ns\u001b[1;34m(data, dayfirst, yearfirst, utc, errors, require_iso8601, allow_object)\u001b[0m\n\u001b[0;32m   2079\u001b[0m             \u001b[0mdayfirst\u001b[0m\u001b[1;33m=\u001b[0m\u001b[0mdayfirst\u001b[0m\u001b[1;33m,\u001b[0m\u001b[1;33m\u001b[0m\u001b[1;33m\u001b[0m\u001b[0m\n\u001b[0;32m   2080\u001b[0m             \u001b[0myearfirst\u001b[0m\u001b[1;33m=\u001b[0m\u001b[0myearfirst\u001b[0m\u001b[1;33m,\u001b[0m\u001b[1;33m\u001b[0m\u001b[1;33m\u001b[0m\u001b[0m\n\u001b[1;32m-> 2081\u001b[1;33m             \u001b[0mrequire_iso8601\u001b[0m\u001b[1;33m=\u001b[0m\u001b[0mrequire_iso8601\u001b[0m\u001b[1;33m,\u001b[0m\u001b[1;33m\u001b[0m\u001b[1;33m\u001b[0m\u001b[0m\n\u001b[0m\u001b[0;32m   2082\u001b[0m         )\n\u001b[0;32m   2083\u001b[0m     \u001b[1;32mexcept\u001b[0m \u001b[0mValueError\u001b[0m \u001b[1;32mas\u001b[0m \u001b[0me\u001b[0m\u001b[1;33m:\u001b[0m\u001b[1;33m\u001b[0m\u001b[1;33m\u001b[0m\u001b[0m\n",
      "\u001b[1;32mpandas\\_libs\\tslib.pyx\u001b[0m in \u001b[0;36mpandas._libs.tslib.array_to_datetime\u001b[1;34m()\u001b[0m\n",
      "\u001b[1;32mpandas\\_libs\\tslib.pyx\u001b[0m in \u001b[0;36mpandas._libs.tslib.array_to_datetime\u001b[1;34m()\u001b[0m\n",
      "\u001b[1;32mpandas\\_libs\\tslib.pyx\u001b[0m in \u001b[0;36mpandas._libs.tslib.array_to_datetime_object\u001b[1;34m()\u001b[0m\n",
      "\u001b[1;32mpandas\\_libs\\tslib.pyx\u001b[0m in \u001b[0;36mpandas._libs.tslib.array_to_datetime_object\u001b[1;34m()\u001b[0m\n",
      "\u001b[1;32mpandas\\_libs\\tslibs\\parsing.pyx\u001b[0m in \u001b[0;36mpandas._libs.tslibs.parsing.parse_datetime_string\u001b[1;34m()\u001b[0m\n",
      "\u001b[1;32m~\\anaconda3\\envs\\ribeco\\lib\\site-packages\\dateutil\\parser\\_parser.py\u001b[0m in \u001b[0;36mparse\u001b[1;34m(timestr, parserinfo, **kwargs)\u001b[0m\n\u001b[0;32m   1372\u001b[0m         \u001b[1;32mreturn\u001b[0m \u001b[0mparser\u001b[0m\u001b[1;33m(\u001b[0m\u001b[0mparserinfo\u001b[0m\u001b[1;33m)\u001b[0m\u001b[1;33m.\u001b[0m\u001b[0mparse\u001b[0m\u001b[1;33m(\u001b[0m\u001b[0mtimestr\u001b[0m\u001b[1;33m,\u001b[0m \u001b[1;33m**\u001b[0m\u001b[0mkwargs\u001b[0m\u001b[1;33m)\u001b[0m\u001b[1;33m\u001b[0m\u001b[1;33m\u001b[0m\u001b[0m\n\u001b[0;32m   1373\u001b[0m     \u001b[1;32melse\u001b[0m\u001b[1;33m:\u001b[0m\u001b[1;33m\u001b[0m\u001b[1;33m\u001b[0m\u001b[0m\n\u001b[1;32m-> 1374\u001b[1;33m         \u001b[1;32mreturn\u001b[0m \u001b[0mDEFAULTPARSER\u001b[0m\u001b[1;33m.\u001b[0m\u001b[0mparse\u001b[0m\u001b[1;33m(\u001b[0m\u001b[0mtimestr\u001b[0m\u001b[1;33m,\u001b[0m \u001b[1;33m**\u001b[0m\u001b[0mkwargs\u001b[0m\u001b[1;33m)\u001b[0m\u001b[1;33m\u001b[0m\u001b[1;33m\u001b[0m\u001b[0m\n\u001b[0m\u001b[0;32m   1375\u001b[0m \u001b[1;33m\u001b[0m\u001b[0m\n\u001b[0;32m   1376\u001b[0m \u001b[1;33m\u001b[0m\u001b[0m\n",
      "\u001b[1;32m~\\anaconda3\\envs\\ribeco\\lib\\site-packages\\dateutil\\parser\\_parser.py\u001b[0m in \u001b[0;36mparse\u001b[1;34m(self, timestr, default, ignoretz, tzinfos, **kwargs)\u001b[0m\n\u001b[0;32m    647\u001b[0m \u001b[1;33m\u001b[0m\u001b[0m\n\u001b[0;32m    648\u001b[0m         \u001b[1;32mif\u001b[0m \u001b[0mres\u001b[0m \u001b[1;32mis\u001b[0m \u001b[1;32mNone\u001b[0m\u001b[1;33m:\u001b[0m\u001b[1;33m\u001b[0m\u001b[1;33m\u001b[0m\u001b[0m\n\u001b[1;32m--> 649\u001b[1;33m             \u001b[1;32mraise\u001b[0m \u001b[0mParserError\u001b[0m\u001b[1;33m(\u001b[0m\u001b[1;34m\"Unknown string format: %s\"\u001b[0m\u001b[1;33m,\u001b[0m \u001b[0mtimestr\u001b[0m\u001b[1;33m)\u001b[0m\u001b[1;33m\u001b[0m\u001b[1;33m\u001b[0m\u001b[0m\n\u001b[0m\u001b[0;32m    650\u001b[0m \u001b[1;33m\u001b[0m\u001b[0m\n\u001b[0;32m    651\u001b[0m         \u001b[1;32mif\u001b[0m \u001b[0mlen\u001b[0m\u001b[1;33m(\u001b[0m\u001b[0mres\u001b[0m\u001b[1;33m)\u001b[0m \u001b[1;33m==\u001b[0m \u001b[1;36m0\u001b[0m\u001b[1;33m:\u001b[0m\u001b[1;33m\u001b[0m\u001b[1;33m\u001b[0m\u001b[0m\n",
      "\u001b[1;31mParserError\u001b[0m: Unknown string format: 2016/01/01 2016/01/01 00:00"
     ]
    }
   ],
   "source": [
    "astype_data['측정시간'] = pd.to_datetime(astype_data['측정시간'])"
   ]
  },
  {
   "cell_type": "code",
   "execution_count": 34,
   "metadata": {},
   "outputs": [
    {
     "name": "stdout",
     "output_type": "stream",
     "text": [
      "<class 'pandas.core.frame.DataFrame'>\n",
      "RangeIndex: 210528 entries, 0 to 210527\n",
      "Data columns (total 18 columns):\n",
      " #   Column    Non-Null Count   Dtype         \n",
      "---  ------    --------------   -----         \n",
      " 0   방류구       210528 non-null  object        \n",
      " 1   측정일자      210528 non-null  object        \n",
      " 2   측정시간      210528 non-null  datetime64[ns]\n",
      " 3   COD_기준치   210528 non-null  object        \n",
      " 4   COD_측정치   210528 non-null  object        \n",
      " 5   COD_상태정보  210528 non-null  object        \n",
      " 6   SS_기준치    210528 non-null  object        \n",
      " 7   SS_측정치    210528 non-null  float64       \n",
      " 8   SS_상태정보   210528 non-null  object        \n",
      " 9   T-N_기준치   210528 non-null  object        \n",
      " 10  T-N_측정치   210528 non-null  float64       \n",
      " 11  T-N_상태정보  210528 non-null  object        \n",
      " 12  T-P_기준치   210528 non-null  object        \n",
      " 13  T-P_측정치   210528 non-null  float64       \n",
      " 14  T-P_상태정보  210528 non-null  object        \n",
      " 15  pH_기준치    210528 non-null  object        \n",
      " 16  PH_측정치    210528 non-null  float64       \n",
      " 17  PH_상태정보   210528 non-null  object        \n",
      "dtypes: datetime64[ns](1), float64(4), object(13)\n",
      "memory usage: 28.9+ MB\n"
     ]
    }
   ],
   "source": [
    "astype_data.info()"
   ]
  },
  {
   "cell_type": "code",
   "execution_count": 35,
   "metadata": {},
   "outputs": [],
   "source": [
    "astype_data.to_csv('Analysis_data.csv', encoding = 'utf-8', index = False)"
   ]
  },
  {
   "cell_type": "code",
   "execution_count": 6,
   "metadata": {},
   "outputs": [],
   "source": [
    "data = pd.read_csv('Analysis_data.csv', encoding='utf-8')"
   ]
  },
  {
   "cell_type": "code",
   "execution_count": 4,
   "metadata": {},
   "outputs": [],
   "source": [
    "astype_data = data.copy()"
   ]
  },
  {
   "cell_type": "code",
   "execution_count": 7,
   "metadata": {},
   "outputs": [
    {
     "output_type": "execute_result",
     "data": {
      "text/plain": [
       "        방류구        측정일자                 측정시간  COD_기준치  COD_측정치 COD_상태정보  \\\n",
       "0         1  2016/01/01  2016-01-01 00:00:00       40      7.8     장비정상   \n",
       "1         1  2016/01/01  2016-01-01 00:05:00       40      7.8     장비정상   \n",
       "2         1  2016/01/01  2016-01-01 00:10:00       40      7.8     장비정상   \n",
       "3         1  2016/01/01  2016-01-01 00:15:00       40      7.8     장비정상   \n",
       "4         1  2016/01/01  2016-01-01 00:20:00       40      7.8     장비정상   \n",
       "...     ...         ...                  ...      ...      ...      ...   \n",
       "210523    1  2017/12/31  2017-12-31 23:35:00       40      9.4     장비정상   \n",
       "210524    1  2017/12/31  2017-12-31 23:40:00       40      8.6     장비정상   \n",
       "210525    1  2017/12/31  2017-12-31 23:45:00       40      8.6     장비정상   \n",
       "210526    1  2017/12/31  2017-12-31 23:50:00       40      8.6     장비정상   \n",
       "210527    1  2017/12/31  2017-12-31 23:55:00       40      8.6     장비정상   \n",
       "\n",
       "        SS_기준치  SS_측정치 SS_상태정보  T-N_기준치  T-N_측정치 T-N_상태정보  T-P_기준치  T-P_측정치  \\\n",
       "0           10     3.5    장비정상       20    5.210     장비정상        2    0.031   \n",
       "1           10     3.6    장비정상       20    5.210     장비정상        2    0.031   \n",
       "2           10     3.6    장비정상       20    5.210     장비정상        2    0.031   \n",
       "3           10     3.6    장비정상       20    5.210     장비정상        2    0.031   \n",
       "4           10     3.7    장비정상       20    5.210     장비정상        2    0.031   \n",
       "...        ...     ...     ...      ...      ...      ...      ...      ...   \n",
       "210523      10     0.7    장비정상       20    7.263     장비정상        2    0.063   \n",
       "210524      10     0.6    장비정상       20    7.428     장비정상        2    0.064   \n",
       "210525      10     0.6    장비정상       20    7.428     장비정상        2    0.064   \n",
       "210526      10     0.7    장비정상       20    7.428     장비정상        2    0.064   \n",
       "210527      10     0.6    장비정상       20    7.428     장비정상        2    0.064   \n",
       "\n",
       "       T-P_상태정보  pH_기준치  PH_측정치 PH_상태정보  \n",
       "0          장비정상     8.6     7.7    장비정상  \n",
       "1          장비정상     8.6     7.7    장비정상  \n",
       "2          장비정상     8.6     7.7    장비정상  \n",
       "3          장비정상     8.6     7.7    장비정상  \n",
       "4          장비정상     8.6     7.7    장비정상  \n",
       "...         ...     ...     ...     ...  \n",
       "210523     장비정상     8.6     7.8    장비정상  \n",
       "210524     장비정상     8.6     7.8    장비정상  \n",
       "210525     장비정상     8.6     7.8    장비정상  \n",
       "210526     장비정상     8.6     7.8    장비정상  \n",
       "210527     장비정상     8.6     7.8    장비정상  \n",
       "\n",
       "[210528 rows x 18 columns]"
      ],
      "text/html": "<div>\n<style scoped>\n    .dataframe tbody tr th:only-of-type {\n        vertical-align: middle;\n    }\n\n    .dataframe tbody tr th {\n        vertical-align: top;\n    }\n\n    .dataframe thead th {\n        text-align: right;\n    }\n</style>\n<table border=\"1\" class=\"dataframe\">\n  <thead>\n    <tr style=\"text-align: right;\">\n      <th></th>\n      <th>방류구</th>\n      <th>측정일자</th>\n      <th>측정시간</th>\n      <th>COD_기준치</th>\n      <th>COD_측정치</th>\n      <th>COD_상태정보</th>\n      <th>SS_기준치</th>\n      <th>SS_측정치</th>\n      <th>SS_상태정보</th>\n      <th>T-N_기준치</th>\n      <th>T-N_측정치</th>\n      <th>T-N_상태정보</th>\n      <th>T-P_기준치</th>\n      <th>T-P_측정치</th>\n      <th>T-P_상태정보</th>\n      <th>pH_기준치</th>\n      <th>PH_측정치</th>\n      <th>PH_상태정보</th>\n    </tr>\n  </thead>\n  <tbody>\n    <tr>\n      <th>0</th>\n      <td>1</td>\n      <td>2016/01/01</td>\n      <td>2016-01-01 00:00:00</td>\n      <td>40</td>\n      <td>7.8</td>\n      <td>장비정상</td>\n      <td>10</td>\n      <td>3.5</td>\n      <td>장비정상</td>\n      <td>20</td>\n      <td>5.210</td>\n      <td>장비정상</td>\n      <td>2</td>\n      <td>0.031</td>\n      <td>장비정상</td>\n      <td>8.6</td>\n      <td>7.7</td>\n      <td>장비정상</td>\n    </tr>\n    <tr>\n      <th>1</th>\n      <td>1</td>\n      <td>2016/01/01</td>\n      <td>2016-01-01 00:05:00</td>\n      <td>40</td>\n      <td>7.8</td>\n      <td>장비정상</td>\n      <td>10</td>\n      <td>3.6</td>\n      <td>장비정상</td>\n      <td>20</td>\n      <td>5.210</td>\n      <td>장비정상</td>\n      <td>2</td>\n      <td>0.031</td>\n      <td>장비정상</td>\n      <td>8.6</td>\n      <td>7.7</td>\n      <td>장비정상</td>\n    </tr>\n    <tr>\n      <th>2</th>\n      <td>1</td>\n      <td>2016/01/01</td>\n      <td>2016-01-01 00:10:00</td>\n      <td>40</td>\n      <td>7.8</td>\n      <td>장비정상</td>\n      <td>10</td>\n      <td>3.6</td>\n      <td>장비정상</td>\n      <td>20</td>\n      <td>5.210</td>\n      <td>장비정상</td>\n      <td>2</td>\n      <td>0.031</td>\n      <td>장비정상</td>\n      <td>8.6</td>\n      <td>7.7</td>\n      <td>장비정상</td>\n    </tr>\n    <tr>\n      <th>3</th>\n      <td>1</td>\n      <td>2016/01/01</td>\n      <td>2016-01-01 00:15:00</td>\n      <td>40</td>\n      <td>7.8</td>\n      <td>장비정상</td>\n      <td>10</td>\n      <td>3.6</td>\n      <td>장비정상</td>\n      <td>20</td>\n      <td>5.210</td>\n      <td>장비정상</td>\n      <td>2</td>\n      <td>0.031</td>\n      <td>장비정상</td>\n      <td>8.6</td>\n      <td>7.7</td>\n      <td>장비정상</td>\n    </tr>\n    <tr>\n      <th>4</th>\n      <td>1</td>\n      <td>2016/01/01</td>\n      <td>2016-01-01 00:20:00</td>\n      <td>40</td>\n      <td>7.8</td>\n      <td>장비정상</td>\n      <td>10</td>\n      <td>3.7</td>\n      <td>장비정상</td>\n      <td>20</td>\n      <td>5.210</td>\n      <td>장비정상</td>\n      <td>2</td>\n      <td>0.031</td>\n      <td>장비정상</td>\n      <td>8.6</td>\n      <td>7.7</td>\n      <td>장비정상</td>\n    </tr>\n    <tr>\n      <th>...</th>\n      <td>...</td>\n      <td>...</td>\n      <td>...</td>\n      <td>...</td>\n      <td>...</td>\n      <td>...</td>\n      <td>...</td>\n      <td>...</td>\n      <td>...</td>\n      <td>...</td>\n      <td>...</td>\n      <td>...</td>\n      <td>...</td>\n      <td>...</td>\n      <td>...</td>\n      <td>...</td>\n      <td>...</td>\n      <td>...</td>\n    </tr>\n    <tr>\n      <th>210523</th>\n      <td>1</td>\n      <td>2017/12/31</td>\n      <td>2017-12-31 23:35:00</td>\n      <td>40</td>\n      <td>9.4</td>\n      <td>장비정상</td>\n      <td>10</td>\n      <td>0.7</td>\n      <td>장비정상</td>\n      <td>20</td>\n      <td>7.263</td>\n      <td>장비정상</td>\n      <td>2</td>\n      <td>0.063</td>\n      <td>장비정상</td>\n      <td>8.6</td>\n      <td>7.8</td>\n      <td>장비정상</td>\n    </tr>\n    <tr>\n      <th>210524</th>\n      <td>1</td>\n      <td>2017/12/31</td>\n      <td>2017-12-31 23:40:00</td>\n      <td>40</td>\n      <td>8.6</td>\n      <td>장비정상</td>\n      <td>10</td>\n      <td>0.6</td>\n      <td>장비정상</td>\n      <td>20</td>\n      <td>7.428</td>\n      <td>장비정상</td>\n      <td>2</td>\n      <td>0.064</td>\n      <td>장비정상</td>\n      <td>8.6</td>\n      <td>7.8</td>\n      <td>장비정상</td>\n    </tr>\n    <tr>\n      <th>210525</th>\n      <td>1</td>\n      <td>2017/12/31</td>\n      <td>2017-12-31 23:45:00</td>\n      <td>40</td>\n      <td>8.6</td>\n      <td>장비정상</td>\n      <td>10</td>\n      <td>0.6</td>\n      <td>장비정상</td>\n      <td>20</td>\n      <td>7.428</td>\n      <td>장비정상</td>\n      <td>2</td>\n      <td>0.064</td>\n      <td>장비정상</td>\n      <td>8.6</td>\n      <td>7.8</td>\n      <td>장비정상</td>\n    </tr>\n    <tr>\n      <th>210526</th>\n      <td>1</td>\n      <td>2017/12/31</td>\n      <td>2017-12-31 23:50:00</td>\n      <td>40</td>\n      <td>8.6</td>\n      <td>장비정상</td>\n      <td>10</td>\n      <td>0.7</td>\n      <td>장비정상</td>\n      <td>20</td>\n      <td>7.428</td>\n      <td>장비정상</td>\n      <td>2</td>\n      <td>0.064</td>\n      <td>장비정상</td>\n      <td>8.6</td>\n      <td>7.8</td>\n      <td>장비정상</td>\n    </tr>\n    <tr>\n      <th>210527</th>\n      <td>1</td>\n      <td>2017/12/31</td>\n      <td>2017-12-31 23:55:00</td>\n      <td>40</td>\n      <td>8.6</td>\n      <td>장비정상</td>\n      <td>10</td>\n      <td>0.6</td>\n      <td>장비정상</td>\n      <td>20</td>\n      <td>7.428</td>\n      <td>장비정상</td>\n      <td>2</td>\n      <td>0.064</td>\n      <td>장비정상</td>\n      <td>8.6</td>\n      <td>7.8</td>\n      <td>장비정상</td>\n    </tr>\n  </tbody>\n</table>\n<p>210528 rows × 18 columns</p>\n</div>"
     },
     "metadata": {},
     "execution_count": 7
    }
   ],
   "source": [
    "data"
   ]
  },
  {
   "source": [
    "# 16-17 데이터 + 18-20년 데이터 통합"
   ],
   "cell_type": "markdown",
   "metadata": {}
  },
  {
   "cell_type": "code",
   "execution_count": 3,
   "metadata": {},
   "outputs": [],
   "source": [
    "data_2 = pd.read_csv('../18~20년도 데이터[전처리].csv')"
   ]
  },
  {
   "cell_type": "code",
   "execution_count": 9,
   "metadata": {},
   "outputs": [],
   "source": [
    "whole_data = pd.concat([data,data_2])"
   ]
  },
  {
   "cell_type": "code",
   "execution_count": 10,
   "metadata": {},
   "outputs": [],
   "source": [
    "whole_data.to_csv('양양_야나코_전체데이터.csv',encoding='utf-8',index=False)"
   ]
  }
 ],
 "metadata": {
  "kernelspec": {
   "name": "python3",
   "display_name": "Python 3.7.10 64-bit ('ribeco': conda)"
  },
  "language_info": {
   "codemirror_mode": {
    "name": "ipython",
    "version": 3
   },
   "file_extension": ".py",
   "mimetype": "text/x-python",
   "name": "python",
   "nbconvert_exporter": "python",
   "pygments_lexer": "ipython3",
   "version": "3.7.10"
  },
  "interpreter": {
   "hash": "9ff6948db20c1af4ef93ae2e819645753291215a5d327630b52439f311fee11c"
  }
 },
 "nbformat": 4,
 "nbformat_minor": 4
}