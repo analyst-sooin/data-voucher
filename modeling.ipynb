{
 "metadata": {
  "language_info": {
   "codemirror_mode": {
    "name": "ipython",
    "version": 3
   },
   "file_extension": ".py",
   "mimetype": "text/x-python",
   "name": "python",
   "nbconvert_exporter": "python",
   "pygments_lexer": "ipython3",
   "version": "3.7.10"
  },
  "orig_nbformat": 4,
  "kernelspec": {
   "name": "python3",
   "display_name": "Python 3.7.10 64-bit ('ribeco': conda)"
  },
  "interpreter": {
   "hash": "9ff6948db20c1af4ef93ae2e819645753291215a5d327630b52439f311fee11c"
  }
 },
 "nbformat": 4,
 "nbformat_minor": 2,
 "cells": [
  {
   "cell_type": "code",
   "execution_count": 2,
   "source": [
    "import pandas as pd"
   ],
   "outputs": [],
   "metadata": {}
  },
  {
   "cell_type": "markdown",
   "source": [
    "양양 학습데이터 18~20년도 자료 불러와서 모델링작업"
   ],
   "metadata": {}
  },
  {
   "cell_type": "code",
   "execution_count": 4,
   "source": [
    "data_copy = data.copy()"
   ],
   "outputs": [],
   "metadata": {}
  },
  {
   "cell_type": "code",
   "execution_count": 3,
   "source": [
    "data = pd.read_csv('양양_야나코_전체데이터.csv', index_col= None)"
   ],
   "outputs": [],
   "metadata": {}
  },
  {
   "cell_type": "code",
   "execution_count": 5,
   "source": [
    "data['일'] = data['측정시간'].apply(lambda x: str(x))\r\n",
    "data['일'] = data['일'].apply(lambda x: x.split(' ')[0])\r\n",
    "data['일'] = data['일'].apply(lambda x: x[8:10])\r\n",
    "\r\n",
    "data['시'] = data['측정시간'].apply(lambda x: str(x))\r\n",
    "data['시'] = data['시'].apply(lambda x: x.split(' ')[1])\r\n",
    "data['시'] = data['시'].apply(lambda x: x[0:2])\r\n",
    "\r\n",
    "\r\n",
    "\r\n",
    "data['분'] = data['측정시간'].apply(lambda x: str(x))\r\n",
    "data['분'] = data['분'].apply(lambda x: x.split(' ')[1])\r\n",
    "data['분'] = data['분'].apply(lambda x: x[3:5])"
   ],
   "outputs": [],
   "metadata": {}
  },
  {
   "cell_type": "markdown",
   "source": [
    "1. COD \r\n",
    "- 공정 5분전에 일시정지 발생 -> 증류수 문제로 판단\r\n",
    "- 공정 40분 이후에 발생하는 일시정지 -> 시약주입문제(Endpoint 에러문제)\r\n",
    "- 중간에 10분 ~ 30분사이에 공정문제 발생 -> 가열공정문제(1.망간시약주입문제, 2.순환펌프문제)\r\n",
    "2. TN,TP\r\n",
    "- 공정 5분전 문제 -> 시료 및 시약 주입문제 \r\n",
    "- 공정 40분이후 -> 흡광도 측정문제(1.Cell 문제)\r\n",
    "- 공정 10분 ~ 30분 사이 문제 -> 가열공정문제(1.가열온도문제 2. 냉각온도문제 3. 집합관 밸브문제)\r\n",
    "\r\n",
    "3. 공통\r\n",
    "- COD 측정범위 40에서 데이터 값이 35이상 올라가면 측정범위 초과위험 표시\r\n",
    "- TN 측정범위 20에서 데이터 값이 15이상으로 올라가면 측정범위 초과위험표시\r\n",
    "- TP 측정범위 2인데 데이터 값이 1.5 이상으로 올라가면 측정범위 초과위험 표시\r\n",
    "\r\n",
    "4. \r\n",
    "- 계측기 통신불량일때 화면표시 -> 데이터로거 점검표시\r\n",
    "\r\n",
    "5. \r\n",
    "- COD, TN, TP, SS , PH 기준초과시 -> 기준초과 발생 원격채수 필요알람이 화면표시 되면 좋음\r\n",
    "- 각 계측기 데이터가 0으로 5시간 지속시 -> 비정상 데이터 측정중 \r\n"
   ],
   "metadata": {}
  },
  {
   "cell_type": "markdown",
   "source": [],
   "metadata": {}
  }
 ]
}